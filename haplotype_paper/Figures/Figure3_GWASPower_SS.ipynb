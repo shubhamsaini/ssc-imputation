{
 "cells": [
  {
   "cell_type": "code",
   "execution_count": 7,
   "metadata": {
    "collapsed": false
   },
   "outputs": [
    {
     "name": "stdout",
     "output_type": "stream",
     "text": [
      "Populating the interactive namespace from numpy and matplotlib\n"
     ]
    },
    {
     "name": "stderr",
     "output_type": "stream",
     "text": [
      "/usr/lib64/python3.4/importlib/_bootstrap.py:321: FutureWarning: The pandas.core.datetools module is deprecated and will be removed in a future version. Please use the pandas.tseries module instead.\n",
      "  return f(*args, **kwds)\n"
     ]
    }
   ],
   "source": [
    "%pylab inline\n",
    "\n",
    "# Import our plot library\n",
    "from vplot import *\n",
    "\n",
    "# Allow us to edit fonts in Illustrator\n",
    "import matplotlib\n",
    "matplotlib.rcParams['ps.useafm'] = True\n",
    "matplotlib.rcParams['pdf.use14corefonts'] = True\n",
    "matplotlib.rcParams['text.usetex'] = True\n",
    "\n",
    "# Libraries\n",
    "import matplotlib.pyplot as plt\n",
    "import numpy as np\n",
    "import os\n",
    "import pandas as pd\n",
    "from matplotlib.patches import Polygon\n",
    "import scipy.stats\n",
    "from sklearn.cluster import AgglomerativeClustering\n",
    "from sklearn.decomposition import PCA\n",
    "import re\n",
    "\n",
    "# Libraries from eSTR viz notebook\n",
    "import statsmodels.api as sm\n",
    "import seaborn.apionly as sns\n",
    "import statsmodels.formula.api as smf\n",
    "\n",
    "SIMDIR=\"/storage/ileena/simulation/SSC/fig_haplo_paper/\"\n",
    "DATADIR=\"/storage/mgymrek/ssc-imputation/\"\n",
    "OUTPATH=\"pdfs/\"\n",
    "PREFIX=\"Figure4\""
   ]
  },
  {
   "cell_type": "code",
   "execution_count": 71,
   "metadata": {
    "collapsed": true
   },
   "outputs": [],
   "source": [
    "# Functions for plotting\n",
    "\n",
    "def PlotExample(ex_data, fname, color=\"black\"):\n",
    "    lw=1\n",
    "    boxprops = dict(color=color, linewidth=lw)\n",
    "    medianprops = dict(color=color, linewidth=lw)\n",
    "    fig = plt.figure()\n",
    "    fig.set_size_inches((6, 4))\n",
    "    ax = fig.add_subplot(111)\n",
    "    bp = ex_data.boxplot(column=\"pt\", by=\"gt\", ax=ax, grid=False, boxprops=boxprops, medianprops=medianprops,\n",
    "                return_type='dict');\n",
    "\n",
    "    [[item.set_linewidth(lw) for item in bp[key]['boxes']] for key in bp.keys()]\n",
    "    [[item.set_linewidth(lw) for item in bp[key]['fliers']] for key in bp.keys()]\n",
    "    [[item.set_linewidth(lw) for item in bp[key]['medians']] for key in bp.keys()]\n",
    "    [[item.set_linewidth(lw) for item in bp[key]['means']] for key in bp.keys()]\n",
    "    [[item.set_linewidth(lw) for item in bp[key]['whiskers']] for key in bp.keys()]\n",
    "    [[item.set_linewidth(lw) for item in bp[key]['caps']] for key in bp.keys()]\n",
    "    [[item.set_color(color) for item in bp[key]['boxes']] for key in bp.keys()]\n",
    "    [[item.set_color(color) for item in bp[key]['fliers']] for key in bp.keys()]\n",
    "    [[item.set_color(color) for item in bp[key]['medians']] for key in bp.keys()]\n",
    "    [[item.set_color(color) for item in bp[key]['whiskers']] for key in bp.keys()]\n",
    "    [[item.set_color(color) for item in bp[key]['caps']] for key in bp.keys()]\n",
    "\n",
    "    ax.set_title(\"\")\n",
    "    plt.suptitle(\"\");\n",
    "    ax.spines['right'].set_visible(False)\n",
    "    ax.spines['top'].set_visible(False)\n",
    "    ax.yaxis.set_ticks_position('left')\n",
    "    ax.xaxis.set_ticks_position('bottom');\n",
    "    ax.set_xlabel(\"STR Genotype (bp relative to hg19)\", size=20)\n",
    "    ax.set_ylabel(\"Simulated phenotype\", size=20);\n",
    "    ax.set_xticklabels(ax.get_xticklabels(), size=15);\n",
    "    ax.set_yticks(np.arange(-3, 3.1, 1))\n",
    "    ax.set_yticklabels(ax.get_yticks(), size=15);\n",
    "    fig.savefig(fname)\n",
    "    \n",
    "def PlotR2Pval(r2, assoc, fname):\n",
    "    # Pull out SNPs\n",
    "    str_coord = assoc[assoc[\"testclass\"]==\"STR\"][\"locus\"].values[0]\n",
    "    r2 = r2[r2[\"locus1\"]==str_coord]\n",
    "    r2[\"locus\"] = r2[\"locus2\"]\n",
    "    snp_assoc = assoc[assoc[\"testclass\"]==\"SNP\"]\n",
    "    snp_assoc = pd.merge(snp_assoc, r2, on=[\"locus\"])\n",
    "\n",
    "    fig = plt.figure()\n",
    "    fig.set_size_inches((6, 4))\n",
    "    ax = fig.add_subplot(111)\n",
    "    # Plotting all SNPs\n",
    "    ax.scatter(snp_assoc[\"r2\"], snp_assoc[\"pvalue\"].apply(lambda x: -1*np.log10(x)), color=\"gray\", s=8, label=\"SNPs\");\n",
    "    # Plot the STR\n",
    "    ax.scatter([1.0], [assoc[assoc[\"testclass\"]==\"STR\"][\"pvalue\"].apply(lambda x: -1*np.log10(x)).values[0]], color=\"red\", s=40, label=\"STR\")\n",
    "    # Plot the imputed STR\n",
    "    imp_ld = r2_imp[r2_imp[\"locus1\"]==str_coord][\"r2\"].values[0]\n",
    "    imp_p = assoc[assoc[\"testclass\"]==\"IMPSTR\"][\"pvalue\"].apply(lambda x: -1*np.log10(x)).values[0]\n",
    "    ax.scatter([imp_ld], [imp_p], color=\"blue\", s=40, label=\"Imputed STR\");\n",
    "    ax.spines['right'].set_visible(False)\n",
    "    ax.spines['top'].set_visible(False)\n",
    "    ax.yaxis.set_ticks_position('left')\n",
    "    ax.xaxis.set_ticks_position('bottom');\n",
    "    ax.set_xlabel(\"R2 with causal STR\", size=15)\n",
    "    ax.set_ylabel(\"-log10 P\", size=15);\n",
    "    ax.set_xticklabels([\"%.1f\"%x for x in ax.get_xticks()], size=12)\n",
    "    ax.set_yticklabels([\"%.1f\"%x for x in ax.get_yticks()], size=12)\n",
    "    ax.legend(loc=\"upper left\");\n",
    "    fig.savefig(fname)\n",
    "    \n",
    "def GetPower(x, alpha=0.05):\n",
    "    return np.mean([(int(float(item) < alpha)) for item in x])\n",
    "\n",
    "def PlotPower(assoc, fname, alpha=0.05):\n",
    "    # Calculate power for each class\n",
    "    assoc_tmp = assoc.groupby([\"str\",\"testclass\"], as_index=False).agg({\"pvalue\": lambda x: GetPower(x)})\n",
    "    assoc_tmp[\"power\"] = assoc_tmp[\"pvalue\"]\n",
    "    assoc_tmp = assoc_tmp[[\"str\",\"testclass\",\"power\"]]\n",
    "    impdata = assoc_tmp[assoc_tmp[\"testclass\"]==\"IMPSTR\"].copy()\n",
    "    snpdata = assoc_tmp[assoc_tmp[\"testclass\"]==\"SNP\"].copy()\n",
    "    strdata = assoc_tmp[assoc_tmp[\"testclass\"]==\"STR\"].copy()\n",
    "    impdata[\"imp_power\"] = impdata[\"power\"]\n",
    "    snpdata[\"snp_power\"] = snpdata[\"power\"]\n",
    "    strdata[\"str_power\"] = strdata[\"power\"]\n",
    "    power = pd.merge(impdata[[\"str\",\"imp_power\"]], snpdata[[\"str\", \"snp_power\"]], on=[\"str\"])\n",
    "    power = pd.merge(power, strdata[[\"str\",\"str_power\"]], on=[\"str\"])\n",
    "    power[\"powerdiff\"] = power[\"imp_power\"] - power[\"snp_power\"]\n",
    "    power[\"locus\"] = power[\"str\"]\n",
    "    data = pd.merge(power, r2comp, on=[\"locus\"])\n",
    "    g = sns.jointplot(x=\"r2diff\", y=\"powerdiff\", data=data, color=\"black\", edgecolor=\"black\")\n",
    "    g.ax_joint.axvline(x=0, linestyle=\"dashed\", color=\"gray\")\n",
    "    g.ax_joint.axhline(y=0, linestyle=\"dashed\", color=\"gray\")\n",
    "    g.ax_joint.set_xlabel(\"r2imp-r2bestsnp\", size=15)\n",
    "    g.ax_joint.set_ylabel(\"powerimp-powerbestsnp\", size=15)\n",
    "    g.savefig(fname)\n",
    "    print(data.shape[0])\n",
    "    print(np.mean(data[\"r2diff\"]))\n",
    "    print(np.mean(data[\"powerdiff\"]))"
   ]
  },
  {
   "cell_type": "code",
   "execution_count": 63,
   "metadata": {
    "collapsed": true
   },
   "outputs": [],
   "source": [
    "# Load LD values\n",
    "r2_snp = pd.read_csv(os.path.join(DATADIR, \"gwas-power\", \"r2_snp.tab\"), sep=\"\\t\")\n",
    "r2_imp = pd.read_csv(os.path.join(DATADIR, \"gwas-power\", \"r2_imp.tab\"), sep=\"\\t\")\n",
    "best_snp = r2_snp.groupby(\"locus1\", as_index=False).agg({\"r2\": max, \"freq_het\": np.mean})\n",
    "r2comp = pd.merge(best_snp, r2_imp, on=[\"locus1\"])[[\"locus1\",\"freq_het_x\",\"r2_x\",\"r2_y\"]]\n",
    "r2comp.columns = [\"locus\",\"het\",\"r2_bestsnp\",\"r2_ssc\"]\n",
    "r2comp[\"r2diff\"] = r2comp[\"r2_ssc\"]-r2comp[\"r2_bestsnp\"]"
   ]
  },
  {
   "cell_type": "markdown",
   "metadata": {},
   "source": [
    "# Figure 3"
   ]
  },
  {
   "cell_type": "code",
   "execution_count": 72,
   "metadata": {
    "collapsed": false
   },
   "outputs": [
    {
     "name": "stderr",
     "output_type": "stream",
     "text": [
      "/usr/lib/python3.4/site-packages/ipykernel/__main__.py:42: SettingWithCopyWarning: \n",
      "A value is trying to be set on a copy of a slice from a DataFrame.\n",
      "Try using .loc[row_indexer,col_indexer] = value instead\n",
      "\n",
      "See the caveats in the documentation: http://pandas.pydata.org/pandas-docs/stable/indexing.html#indexing-view-versus-copy\n"
     ]
    },
    {
     "name": "stdout",
     "output_type": "stream",
     "text": [
      "2106\n",
      "0.17671083911799743\n",
      "0.11093542260208927\n"
     ]
    },
    {
     "data": {
      "image/png": "[encoded data removed]",
      "text/plain": [
       "<matplotlib.figure.Figure at 0x7fa5083d6a20>"
      ]
     },
     "metadata": {},
     "output_type": "display_data"
    },
    {
     "data": {
      "image/png": "[encoded data removed]",
      "text/plain": [
       "<matplotlib.figure.Figure at 0x7fa4fb8ab668>"
      ]
     },
     "metadata": {},
     "output_type": "display_data"
    },
    {
     "data": {
      "image/png": "[encoded data removed]",
      "text/plain": [
       "<matplotlib.figure.Figure at 0x7fa51ce90908>"
      ]
     },
     "metadata": {},
     "output_type": "display_data"
    }
   ],
   "source": [
    "# Load data for quant\n",
    "ex_gt_data = pd.read_csv(os.path.join(DATADIR, \"gwas-power\", \"snpstr_power_sims_quant_example.gt\"), sep=\"\\t\")\n",
    "ex_pt_data = pd.read_csv(os.path.join(DATADIR, \"gwas-power\", \"snpstr_power_sims_quant_example_0.pheno\"), sep=\"\\t\", names=[\"Sample_ID\", \"x\", \"pt\"])\n",
    "ex_data = pd.merge(ex_gt_data, ex_pt_data, on=[\"Sample_ID\"])\n",
    "ex_data[\"gt\"] = ex_data[\"True_STR_Sum\"]\n",
    "exassoc = pd.read_csv(os.path.join(DATADIR, \"gwas-power\", \"snpstr_power_sims_quant_example_power_simulation_results.txt\"), sep=\"\\t\")\n",
    "assoc = pd.read_csv(os.path.join(DATADIR, \"gwas-power\", \"snpstr_power_sims_casecontrol.tab_power_simulation_results.txt\"), sep=\"\\t\")\n",
    "\n",
    "\n",
    "PlotExample(ex_data, os.path.join(OUTPATH, \"%s_ExampleAssociation.pdf\"%PREFIX))\n",
    "PlotR2Pval(r2, exassoc, os.path.join(OUTPATH, \"%s_r2vsP.pdf\"%PREFIX))\n",
    "PlotPower(assoc, os.path.join(OUTPATH, \"%s_GWASPowerQuant.pdf\"%PREFIX), alpha=0.05)"
   ]
  },
  {
   "cell_type": "code",
   "execution_count": 73,
   "metadata": {
    "collapsed": false
   },
   "outputs": [
    {
     "name": "stdout",
     "output_type": "stream",
     "text": [
      "0.19854779050575735\n",
      "0.18531421973605547\n"
     ]
    }
   ],
   "source": [
    "# Mean gain in r2 vs. num alleles\n",
    "sscloo = pd.read_csv(os.path.join(DATADIR, \"loo\",\"l1o.results.csv\"))\n",
    "sscloo[\"locus\"] = sscloo[\"str\"]\n",
    "ldata = pd.merge(sscloo, r2comp, on=[\"locus\"])\n",
    "print(np.mean(ldata[(ldata[\"numAllele\"]>=3)][\"r2diff\"]))\n",
    "print(np.mean(ldata[\"r2diff\"]))"
   ]
  },
  {
   "cell_type": "markdown",
   "metadata": {},
   "source": [
    "# Supplementary Figure: case/control"
   ]
  },
  {
   "cell_type": "code",
   "execution_count": 86,
   "metadata": {
    "collapsed": false
   },
   "outputs": [
    {
     "name": "stderr",
     "output_type": "stream",
     "text": [
      "/usr/lib/python3.4/site-packages/ipykernel/__main__.py:42: SettingWithCopyWarning: \n",
      "A value is trying to be set on a copy of a slice from a DataFrame.\n",
      "Try using .loc[row_indexer,col_indexer] = value instead\n",
      "\n",
      "See the caveats in the documentation: http://pandas.pydata.org/pandas-docs/stable/indexing.html#indexing-view-versus-copy\n"
     ]
    },
    {
     "name": "stdout",
     "output_type": "stream",
     "text": [
      "2690\n",
      "0.17935322662001393\n",
      "0.05051329230576989\n"
     ]
    },
    {
     "data": {
      "image/png": "[encoded data removed]",
      "text/plain": [
       "<matplotlib.figure.Figure at 0x7fa5084fd828>"
      ]
     },
     "metadata": {},
     "output_type": "display_data"
    },
    {
     "data": {
      "image/png": "[encoded data removed]",
      "text/plain": [
       "<matplotlib.figure.Figure at 0x7fa508cbe048>"
      ]
     },
     "metadata": {},
     "output_type": "display_data"
    },
    {
     "data": {
      "image/png": "[encoded data removed]",
      "text/plain": [
       "<matplotlib.figure.Figure at 0x7fa508e1e400>"
      ]
     },
     "metadata": {},
     "output_type": "display_data"
    }
   ],
   "source": [
    "# Load data for case/control\n",
    "exp_gt_data = pd.read_csv(os.path.join(DATADIR, \"gwas-power\", \"snpstr_power_sims_cc_example.gt\"), sep=\"\\t\")\n",
    "exp_pt_data = pd.read_csv(os.path.join(DATADIR, \"gwas-power\", \"snpstr_power_sims_cc_example_0.pheno\"), sep=\"\\t\", names=[\"Sample_ID\", \"x\", \"pt\"])\n",
    "ex_data = pd.merge(exp_gt_data, exp_pt_data, on=[\"Sample_ID\"])\n",
    "ex_data[\"gt\"] = ex_data[\"True_STR_Sum\"]\n",
    "exassoc = pd.read_csv(os.path.join(DATADIR, \"gwas-power\", \"snpstr_power_sims_cc_example_power_simulation_results.txt\"), sep=\"\\t\")\n",
    "assoc = pd.read_csv(os.path.join(DATADIR, \"gwas-power\", \"snpstr_power_sims_casecontrol.tab_power_simulation_results.txt\"), sep=\"\\t\")\n",
    "\n",
    "PlotExample(ex_data, os.path.join(OUTPATH, \"SuppFig_ExampleAssociation.pdf\"))\n",
    "PlotR2Pval(r2, exassoc, os.path.join(OUTPATH, \"SuppFig_r2vsP.pdf\"))\n",
    "PlotPower(assoc, os.path.join(OUTPATH, \"SuppFig_GWASPowerCC.pdf\"), alpha=0.05)"
   ]
  },
  {
   "cell_type": "markdown",
   "metadata": {},
   "source": [
    "# Supplementary Figure: r2imp-r2best vs. num alleles"
   ]
  },
  {
   "cell_type": "code",
   "execution_count": 7,
   "metadata": {
    "collapsed": false
   },
   "outputs": [
    {
     "data": {
      "image/png": "[encoded data removed]",
      "text/plain": [
       "<matplotlib.figure.Figure at 0x7fa4aebf38d0>"
      ]
     },
     "metadata": {},
     "output_type": "display_data"
    }
   ],
   "source": [
    "fig = plt.figure()\n",
    "fig.set_size_inches((6, 4))\n",
    "ax = fig.add_subplot(111)\n",
    "ldata[ldata[\"numAllele\"]<=10].boxplot(column=\"r2diff\", by=\"numAllele\", grid=False, ax=ax, showmeans=True);\n",
    "ax.spines['right'].set_visible(False)\n",
    "ax.spines['top'].set_visible(False)\n",
    "ax.yaxis.set_ticks_position('left')\n",
    "ax.xaxis.set_ticks_position('bottom');\n",
    "ax.axhline(y=0, linestyle=\"dashed\", color=\"gray\", linewidth=0.5)\n",
    "ax.set_ylim(bottom=-0.4, top=0.8)\n",
    "ax.set_title(\"\")\n",
    "plt.suptitle(\"\")\n",
    "ax.set_xlabel(\"Number of alleles\", size=15)\n",
    "ax.set_ylabel(\"r2imp-r2bestsnp\", size=15)\n",
    "ax.set_xticklabels(ax.get_xticks(), size=12)\n",
    "ax.set_yticklabels([\"%.1f\"%x for x in ax.get_yticks()], size=12);\n",
    "fig.savefig(os.path.join(OUTPATH, \"SuppFig_r2gain.pdf\"))"
   ]
  },
  {
   "cell_type": "code",
   "execution_count": null,
   "metadata": {
    "collapsed": true
   },
   "outputs": [],
   "source": []
  },
  {
   "cell_type": "code",
   "execution_count": 2,
   "metadata": {
    "collapsed": true
   },
   "outputs": [],
   "source": [
    "def gen_scatter(X, Y, outputFileName=None, marker='.', color='gray', label='_nolegend_', xlabel=\"X-Label\", ylabel=\"Y-Label\", xlim=None, ylim=None, xticksFormat=None, yticksFormat=None, diagonal=False, lr=False, legend=False, alpha=None, empty=False):\n",
    "    fig = plt.figure()\n",
    "    ax=fig.add_subplot(111)\n",
    "    \n",
    "    if empty is True:\n",
    "        X = [np.min(X), np.max(X)]\n",
    "        Y = [np.min(Y), np.max(Y)]\n",
    "    \n",
    "    ax.scatter(X, Y, marker=marker, color=color, label=label, alpha=alpha)\n",
    "    ax.set_xlabel(xlabel, size=15)\n",
    "    ax.set_ylabel(ylabel, size=15)\n",
    "\n",
    "    if diagonal is True:\n",
    "        ax.plot(ax.get_xlim(), ax.get_xlim(), linestyle=\"dashed\", color=\"black\", label=\"Diagonal\")\n",
    "    \n",
    "    if xlim is not None:\n",
    "        ax.set_xlim(xlim)\n",
    "        \n",
    "    if ylim is not None:\n",
    "        ax.set_ylim(ylim)\n",
    "        \n",
    "    ax.spines['right'].set_visible(False)\n",
    "    ax.spines['top'].set_visible(False)\n",
    "    ax.yaxis.set_ticks_position('left')\n",
    "    ax.xaxis.set_ticks_position('bottom')\n",
    "\n",
    "    if lr is True:\n",
    "        m,b=np.polyfit(X, Y, 1)\n",
    "        X_plot=np.linspace(ax.get_xlim()[0], ax.get_xlim()[1], 100)\n",
    "        ax.plot(X_plot, m*X_plot+b, linestyle=\"dashed\", color=\"blue\", label=\"Best fit\")\n",
    "\n",
    "    ax.set_xticklabels(ax.get_xticks(), size=12);\n",
    "    ax.set_yticklabels(ax.get_yticks(), size=12);\n",
    "    \n",
    "    if xticksFormat is not None:\n",
    "        ax.set_xticklabels([xticksFormat%(x) for x in ax.get_xticks()], size=10);\n",
    "    if yticksFormat is not None:\n",
    "        ax.set_yticklabels([yticksFormat%(x) for x in ax.get_yticks()], size=12);\n",
    "    \n",
    "    if legend is True:\n",
    "        legend = ax.legend(loc=\"upper center\")\n",
    "        \n",
    "    if outputFileName is not None:\n",
    "        fig.savefig(outputFileName)\n",
    "    print(scipy.stats.pearsonr(X,Y))"
   ]
  },
  {
   "cell_type": "code",
   "execution_count": 3,
   "metadata": {
    "collapsed": true
   },
   "outputs": [],
   "source": [
    "def gen_qq(pval1, pval2=None, outputFileName=None, marker='.', color1='red', color2 = \"blue\", label1='_nolegend_', label2='_nolegend_', xlabel=\"Expected Values (-log10)\", ylabel=\"Observed Values (-log10)\", xlim=None, ylim=None, xticksFormat=None, yticksFormat=None, diagonal=False, lr=False, legend=False, alpha=None, empty=False):\n",
    "    fig = plt.figure()\n",
    "    ax=fig.add_subplot(111)\n",
    "    \n",
    "    Y = -1*np.log10(np.sort(pval1))\n",
    "    X = -1*np.log10(1.0*np.array(range(len(Y)))/len(Y))\n",
    "    \n",
    "    if empty is True:\n",
    "        X = [np.min(X), np.max(X)]\n",
    "        Y = [np.min(Y), np.max(Y)]\n",
    "    \n",
    "    ax.scatter(X, Y, marker=marker, color=color1, label=label1, alpha=alpha)\n",
    "    \n",
    "    if pval2 is not None:\n",
    "        Y_2 = -1*np.log10(np.sort(pval2))\n",
    "        X_2 = -1*np.log10(1.0*np.array(range(len(Y_2)))/len(Y_2))\n",
    "        ax.scatter(X_2, Y_2, marker=marker, color=color2, label=label2, alpha=alpha)\n",
    "        \n",
    "        \n",
    "    ax.set_xlabel(xlabel, size=15)\n",
    "    ax.set_ylabel(ylabel, size=15)\n",
    "\n",
    "    if diagonal is True:\n",
    "        ax.plot(ax.get_xlim(), ax.get_xlim(), linestyle=\"dashed\", color=\"black\", label=\"Diagonal\")\n",
    "    \n",
    "    if xlim is not None:\n",
    "        ax.set_xlim(xlim)\n",
    "        \n",
    "    if ylim is not None:\n",
    "        ax.set_ylim(ylim)\n",
    "        \n",
    "    ax.spines['right'].set_visible(False)\n",
    "    ax.spines['top'].set_visible(False)\n",
    "    ax.yaxis.set_ticks_position('left')\n",
    "    ax.xaxis.set_ticks_position('bottom')\n",
    "\n",
    "    if lr is True:\n",
    "        m,b=np.polyfit(X, Y, 1)\n",
    "        X_plot=np.linspace(ax.get_xlim()[0], ax.get_xlim()[1], 100)\n",
    "        ax.plot(X_plot, m*X_plot+b, linestyle=\"dashed\", color=\"blue\", label=\"Best fit\")\n",
    "\n",
    "    ax.set_xticklabels(ax.get_xticks(), size=12);\n",
    "    ax.set_yticklabels(ax.get_yticks(), size=12);\n",
    "    \n",
    "    if xticksFormat is not None:\n",
    "        ax.set_xticklabels([xticksFormat%(x) for x in ax.get_xticks()], size=10);\n",
    "    if yticksFormat is not None:\n",
    "        ax.set_yticklabels([yticksFormat%(x) for x in ax.get_yticks()], size=12);\n",
    "    \n",
    "    if legend is True:\n",
    "        legend = ax.legend(loc=\"best\")\n",
    "        \n",
    "    if outputFileName is not None:\n",
    "        fig.savefig(outputFileName)"
   ]
  },
  {
   "cell_type": "code",
   "execution_count": 5,
   "metadata": {
    "collapsed": false
   },
   "outputs": [
    {
     "data": {
      "text/html": [
       "<div>\n",
       "<style scoped>\n",
       "    .dataframe tbody tr th:only-of-type {\n",
       "        vertical-align: middle;\n",
       "    }\n",
       "\n",
       "    .dataframe tbody tr th {\n",
       "        vertical-align: top;\n",
       "    }\n",
       "\n",
       "    .dataframe thead th {\n",
       "        text-align: right;\n",
       "    }\n",
       "</style>\n",
       "<table border=\"1\" class=\"dataframe\">\n",
       "  <thead>\n",
       "    <tr style=\"text-align: right;\">\n",
       "      <th></th>\n",
       "      <th>index</th>\n",
       "      <th>gene</th>\n",
       "      <th>chrom_x</th>\n",
       "      <th>str.start_x</th>\n",
       "      <th>p.wald_x</th>\n",
       "      <th>llqvalue_x</th>\n",
       "      <th>llsignif_x</th>\n",
       "      <th>NTEST_x</th>\n",
       "      <th>qvalue_x</th>\n",
       "      <th>significant_x</th>\n",
       "      <th>...</th>\n",
       "      <th>chrom_y</th>\n",
       "      <th>str.start_y</th>\n",
       "      <th>p.wald_y</th>\n",
       "      <th>llqvalue_y</th>\n",
       "      <th>llsignif_y</th>\n",
       "      <th>NTEST_y</th>\n",
       "      <th>qvalue_y</th>\n",
       "      <th>significant_y</th>\n",
       "      <th>beta_y</th>\n",
       "      <th>beta.se_y</th>\n",
       "    </tr>\n",
       "  </thead>\n",
       "  <tbody>\n",
       "    <tr>\n",
       "      <th>0</th>\n",
       "      <td>141</td>\n",
       "      <td>ENSG00000142156.10</td>\n",
       "      <td>chr21</td>\n",
       "      <td>47436409</td>\n",
       "      <td>1.566967e-08</td>\n",
       "      <td>0.000833</td>\n",
       "      <td>1</td>\n",
       "      <td>6.0</td>\n",
       "      <td>0.001756</td>\n",
       "      <td>1.0</td>\n",
       "      <td>...</td>\n",
       "      <td>chr21</td>\n",
       "      <td>47436409</td>\n",
       "      <td>2.998231e-06</td>\n",
       "      <td>0.003174</td>\n",
       "      <td>1</td>\n",
       "      <td>15.0</td>\n",
       "      <td>0.02591</td>\n",
       "      <td>1.0</td>\n",
       "      <td>0.299897</td>\n",
       "      <td>0.062631</td>\n",
       "    </tr>\n",
       "    <tr>\n",
       "      <th>1</th>\n",
       "      <td>200</td>\n",
       "      <td>ENSG00000142166.8</td>\n",
       "      <td>chr21</td>\n",
       "      <td>34740563</td>\n",
       "      <td>1.036883e-06</td>\n",
       "      <td>0.000833</td>\n",
       "      <td>1</td>\n",
       "      <td>22.0</td>\n",
       "      <td>0.001765</td>\n",
       "      <td>1.0</td>\n",
       "      <td>...</td>\n",
       "      <td>chr21</td>\n",
       "      <td>34740563</td>\n",
       "      <td>7.750065e-05</td>\n",
       "      <td>0.003392</td>\n",
       "      <td>1</td>\n",
       "      <td>NaN</td>\n",
       "      <td>NaN</td>\n",
       "      <td>NaN</td>\n",
       "      <td>-0.255420</td>\n",
       "      <td>0.063476</td>\n",
       "    </tr>\n",
       "    <tr>\n",
       "      <th>2</th>\n",
       "      <td>260</td>\n",
       "      <td>ENSG00000142168.10</td>\n",
       "      <td>chr21</td>\n",
       "      <td>32964604</td>\n",
       "      <td>3.579907e-04</td>\n",
       "      <td>0.010360</td>\n",
       "      <td>1</td>\n",
       "      <td>17.0</td>\n",
       "      <td>0.051333</td>\n",
       "      <td>1.0</td>\n",
       "      <td>...</td>\n",
       "      <td>chr21</td>\n",
       "      <td>32964604</td>\n",
       "      <td>2.249939e-02</td>\n",
       "      <td>0.141712</td>\n",
       "      <td>0</td>\n",
       "      <td>NaN</td>\n",
       "      <td>NaN</td>\n",
       "      <td>NaN</td>\n",
       "      <td>-0.149131</td>\n",
       "      <td>0.064919</td>\n",
       "    </tr>\n",
       "    <tr>\n",
       "      <th>3</th>\n",
       "      <td>239</td>\n",
       "      <td>ENSG00000142188.12</td>\n",
       "      <td>chr21</td>\n",
       "      <td>34814319</td>\n",
       "      <td>8.936800e-29</td>\n",
       "      <td>0.000833</td>\n",
       "      <td>1</td>\n",
       "      <td>17.0</td>\n",
       "      <td>0.001756</td>\n",
       "      <td>1.0</td>\n",
       "      <td>...</td>\n",
       "      <td>chr21</td>\n",
       "      <td>34814317</td>\n",
       "      <td>7.042982e-26</td>\n",
       "      <td>0.003174</td>\n",
       "      <td>1</td>\n",
       "      <td>NaN</td>\n",
       "      <td>NaN</td>\n",
       "      <td>NaN</td>\n",
       "      <td>-0.616397</td>\n",
       "      <td>0.051698</td>\n",
       "    </tr>\n",
       "    <tr>\n",
       "      <th>4</th>\n",
       "      <td>504</td>\n",
       "      <td>ENSG00000142197.8</td>\n",
       "      <td>chr21</td>\n",
       "      <td>37504210</td>\n",
       "      <td>1.782487e-06</td>\n",
       "      <td>0.000833</td>\n",
       "      <td>1</td>\n",
       "      <td>36.0</td>\n",
       "      <td>0.002018</td>\n",
       "      <td>1.0</td>\n",
       "      <td>...</td>\n",
       "      <td>chr21</td>\n",
       "      <td>37504210</td>\n",
       "      <td>8.244185e-05</td>\n",
       "      <td>0.003411</td>\n",
       "      <td>1</td>\n",
       "      <td>NaN</td>\n",
       "      <td>NaN</td>\n",
       "      <td>NaN</td>\n",
       "      <td>0.254494</td>\n",
       "      <td>0.063492</td>\n",
       "    </tr>\n",
       "  </tbody>\n",
       "</table>\n",
       "<p>5 rows × 23 columns</p>\n",
       "</div>"
      ],
      "text/plain": [
       "   index                gene chrom_x  str.start_x      p.wald_x  llqvalue_x  \\\n",
       "0    141  ENSG00000142156.10   chr21     47436409  1.566967e-08    0.000833   \n",
       "1    200   ENSG00000142166.8   chr21     34740563  1.036883e-06    0.000833   \n",
       "2    260  ENSG00000142168.10   chr21     32964604  3.579907e-04    0.010360   \n",
       "3    239  ENSG00000142188.12   chr21     34814319  8.936800e-29    0.000833   \n",
       "4    504   ENSG00000142197.8   chr21     37504210  1.782487e-06    0.000833   \n",
       "\n",
       "   llsignif_x  NTEST_x  qvalue_x  significant_x    ...      chrom_y  \\\n",
       "0           1      6.0  0.001756            1.0    ...        chr21   \n",
       "1           1     22.0  0.001765            1.0    ...        chr21   \n",
       "2           1     17.0  0.051333            1.0    ...        chr21   \n",
       "3           1     17.0  0.001756            1.0    ...        chr21   \n",
       "4           1     36.0  0.002018            1.0    ...        chr21   \n",
       "\n",
       "   str.start_y      p.wald_y llqvalue_y  llsignif_y  NTEST_y  qvalue_y  \\\n",
       "0     47436409  2.998231e-06   0.003174           1     15.0   0.02591   \n",
       "1     34740563  7.750065e-05   0.003392           1      NaN       NaN   \n",
       "2     32964604  2.249939e-02   0.141712           0      NaN       NaN   \n",
       "3     34814317  7.042982e-26   0.003174           1      NaN       NaN   \n",
       "4     37504210  8.244185e-05   0.003411           1      NaN       NaN   \n",
       "\n",
       "   significant_y    beta_y  beta.se_y  \n",
       "0            1.0  0.299897   0.062631  \n",
       "1            NaN -0.255420   0.063476  \n",
       "2            NaN -0.149131   0.064919  \n",
       "3            NaN -0.616397   0.051698  \n",
       "4            NaN  0.254494   0.063492  \n",
       "\n",
       "[5 rows x 23 columns]"
      ]
     },
     "execution_count": 5,
     "metadata": {},
     "output_type": "execute_result"
    }
   ],
   "source": [
    "min_col = 'qvalue'\n",
    "chrom=\"21\"\n",
    "raw_values = pd.read_csv(\"/storage/s1saini/manuscript_strsnp/gtex/Non_imputed_PQvalues_SFF_chr\"+chrom, delimiter=\"\\t\").drop(['str.id'], axis=1)\n",
    "raw_values_id_to_pos = pd.read_csv(\"/storage/s1saini/manuscript_strsnp/gtex/chr\"+chrom+\"_pos_to_id_raw.txt\", names=['str.start','str.id'], delim_whitespace=True)\n",
    "raw_values = pd.merge(raw_values, raw_values_id_to_pos, on=\"str.start\", how=\"inner\")\n",
    "sig_raw_values = raw_values[raw_values[min_col] < 0.1].reset_index()\n",
    "sig_raw_values = sig_raw_values.iloc[sig_raw_values.groupby('gene').agg({min_col:'idxmin'})[min_col]]#[['gene','str.id', 'beta', min_col]]\n",
    "\n",
    "imputed_values = pd.read_csv(\"/storage/s1saini/manuscript_strsnp/gtex/PQValues_47_chr\"+chrom, delimiter=\"\\t\").drop(['str.id'], axis=1)\n",
    "imputed_values_id_to_pos = pd.read_csv(\"/storage/s1saini/manuscript_strsnp/gtex/chr\"+chrom+\"_pos_to_id_imputed.txt\", names=['str.start','str.id'], delim_whitespace=True)\n",
    "imputed_values = pd.merge(imputed_values, imputed_values_id_to_pos, on=\"str.start\", how=\"inner\")\n",
    "\n",
    "imputed_raw = pd.merge(sig_raw_values, imputed_values, how=\"inner\", on=['gene','str.id'])\n",
    "imputed_raw.head()"
   ]
  },
  {
   "cell_type": "markdown",
   "metadata": {},
   "source": [
    "# Figure 3D - Effect Sizes"
   ]
  },
  {
   "cell_type": "code",
   "execution_count": 8,
   "metadata": {
    "collapsed": false
   },
   "outputs": [
    {
     "name": "stdout",
     "output_type": "stream",
     "text": [
      "(0.4660907518847771, 0.0006464196152597942)\n"
     ]
    },
    {
     "data": {
      "image/png": "[encoded data removed]",
      "text/plain": [
       "<Figure size 432x288 with 1 Axes>"
      ]
     },
     "metadata": {},
     "output_type": "display_data"
    }
   ],
   "source": [
    "gen_scatter(imputed_raw['beta_x'], imputed_raw['beta_y'], xlabel=\"Raw\", ylabel=\"Imputed\", diagonal=True, lr=True, legend=True, marker=\"o\", xticksFormat=\"%.2f\", yticksFormat=\"%.2f\")"
   ]
  },
  {
   "cell_type": "markdown",
   "metadata": {},
   "source": [
    "# Figure 3E - QQ Plot"
   ]
  },
  {
   "cell_type": "code",
   "execution_count": 9,
   "metadata": {
    "collapsed": false
   },
   "outputs": [
    {
     "name": "stderr",
     "output_type": "stream",
     "text": [
      "/usr/lib/python3.4/site-packages/ipykernel/__main__.py:6: RuntimeWarning: divide by zero encountered in log10\n",
      "/usr/lib/python3.4/site-packages/ipykernel/__main__.py:16: RuntimeWarning: divide by zero encountered in log10\n"
     ]
    },
    {
     "data": {
      "image/png": "[encoded data removed]",
      "text/plain": [
       "<Figure size 432x288 with 1 Axes>"
      ]
     },
     "metadata": {},
     "output_type": "display_data"
    }
   ],
   "source": [
    "gen_qq(raw_values['p.wald'].values, imputed_values['p.wald'].values, label1 = \"Raw Data\", label2 = \"Imputed data\", legend = True, diagonal=True, marker=\".\")"
   ]
  },
  {
   "cell_type": "markdown",
   "metadata": {},
   "source": [
    "# Figure 3F - Example Locus\n"
   ]
  },
  {
   "cell_type": "code",
   "execution_count": 10,
   "metadata": {
    "collapsed": true
   },
   "outputs": [],
   "source": [
    "# CSTB\n",
    "CHROM=21\n",
    "START=45196326\n",
    "GENE=\"ENSG00000160213.5\"\n",
    "\n",
    "TISSUES=\"Nerve-Tibial\""
   ]
  },
  {
   "cell_type": "markdown",
   "metadata": {},
   "source": [
    "## Raw genotypes"
   ]
  },
  {
   "cell_type": "code",
   "execution_count": 12,
   "metadata": {
    "collapsed": true
   },
   "outputs": [],
   "source": [
    "%%bash -s \"$CHROM\" \"$START\" \"$TISSUES\" \"$GENE\"\n",
    "\n",
    "CHROM=$1\n",
    "START=$2\n",
    "TISSUES=$3\n",
    "GENE=$4\n",
    "\n",
    "VCF=/storage/szfeupe/Runs/650GTEx_estr/Merged_STRs_all_samples.vcf.gz \n",
    "\n",
    "# Pull out STR genotypes\n",
    "bcftools query -r ${CHROM}:${START}-${START} -f\"[%SAMPLE\\t%GB\\n]\" $VCF | \\\n",
    "    grep -v \"\\.\" | sed 's/|/\\t/' | awk '{print $1 \"\\t\" $2+$3}' > str_genotypes.tab\n",
    "\n",
    "# Pull out gene expression\n",
    "for t in $(echo $TISSUES | sed 's/,/ /g')\n",
    "do\n",
    "    EXPR=/storage/szfeupe/Runs/650GTEx_estr/Analysis_by_Tissue/${t}/Corr_Expr.csv\n",
    "    colnum=$(cat $EXPR | head -n 1 | sed 's/,/\\t/g' | datamash transpose | awk '{print NR \"\\t\" $0}' | grep -w $GENE | cut -f 1)\n",
    "    cat $EXPR | cut -d',' -f 1,$((${colnum}+1)) | grep -v ENSG > expr_${t}.tab\n",
    "done"
   ]
  },
  {
   "cell_type": "code",
   "execution_count": 13,
   "metadata": {
    "collapsed": false
   },
   "outputs": [
    {
     "data": {
      "image/png": "[encoded data removed]",
      "text/plain": [
       "<Figure size 432x288 with 1 Axes>"
      ]
     },
     "metadata": {},
     "output_type": "display_data"
    }
   ],
   "source": [
    "strgt = pd.read_csv(\"str_genotypes.tab\", sep=\"\\t\", names=[\"sample\",\"str\"])\n",
    "strgt[\"sample\"] = strgt[\"sample\"].apply(lambda x: \"-\".join(x.split(\"-\")[0:2]))\n",
    "\n",
    "# Plot single tissue\n",
    "fig = plt.figure()\n",
    "ax = fig.add_subplot(111)\n",
    "t=\"Nerve-Tibial\"\n",
    "expr = pd.read_csv(\"expr_%s.tab\"%t, names=[\"sample\",\"expr\"])\n",
    "data = pd.merge(strgt, expr)\n",
    "data.boxplot(column=\"expr\", by=\"str\", ax=ax, grid=False);\n",
    "ax.set_xlabel(\"Num. Repeats\", size=15)\n",
    "ax.set_ylabel(\"Gene Expression\", size=15)\n",
    "ax.set_xticks([])\n",
    "ax.set_yticks([])\n",
    "ax.set_title(\"\")\n",
    "ax.spines['right'].set_visible(False)\n",
    "ax.spines['top'].set_visible(False)\n",
    "ax.yaxis.set_ticks_position('left')\n",
    "ax.xaxis.set_ticks_position('bottom')\n",
    "plt.suptitle(\"\");\n",
    "plt.show()\n",
    "fig.savefig(\"example_estr.pdf\")"
   ]
  },
  {
   "cell_type": "markdown",
   "metadata": {},
   "source": [
    "## Imputed genotypes\n"
   ]
  },
  {
   "cell_type": "code",
   "execution_count": 15,
   "metadata": {
    "collapsed": true
   },
   "outputs": [],
   "source": [
    "%%bash -s \"$CHROM\" \"$START\" \"$TISSUES\" \"$GENE\"\n",
    "\n",
    "CHROM=$1\n",
    "START=$2\n",
    "TISSUES=$3\n",
    "GENE=$4\n",
    "\n",
    "VCF=/storage/s1saini/manuscript_strsnp/gtex/gtex_beagle41_chr21_multiallelic.vcf.gz\n",
    "\n",
    "# Pull out STR genotypes\n",
    "bcftools query -r ${CHROM}:${START}-${START} -f\"[%SAMPLE\\t%REF\\t%TGT\\n]\" $VCF | \\\n",
    "    grep -v \"\\.\" > str_genotypes.tab\n",
    "\n",
    "# Pull out gene expression\n",
    "for t in $(echo $TISSUES | sed 's/,/ /g')\n",
    "do\n",
    "    EXPR=/storage/szfeupe/Runs/650GTEx_estr/Analysis_by_Tissue/${t}/Corr_Expr.csv\n",
    "    colnum=$(cat $EXPR | head -n 1 | sed 's/,/\\t/g' | datamash transpose | awk '{print NR \"\\t\" $0}' | grep -w $GENE | cut -f 1)\n",
    "    cat $EXPR | cut -d',' -f 1,$((${colnum}+1)) | grep -v ENSG > expr_${t}.tab\n",
    "done"
   ]
  },
  {
   "cell_type": "code",
   "execution_count": 16,
   "metadata": {
    "collapsed": false
   },
   "outputs": [
    {
     "data": {
      "image/png": "[encoded data removed]",
      "text/plain": [
       "<Figure size 432x288 with 1 Axes>"
      ]
     },
     "metadata": {},
     "output_type": "display_data"
    }
   ],
   "source": [
    "strgt = pd.read_csv(\"str_genotypes.tab\", sep=\"\\t\", names=[\"sample\",\"ref\",\"str\"])\n",
    "strgt[\"sample\"] = strgt[\"sample\"].apply(lambda x: \"-\".join(x.split(\"-\")[0:2]))\n",
    "\n",
    "sample_gt = list()\n",
    "for i in strgt.values:\n",
    "    refLen = len(i[1])\n",
    "    gt_bases = re.split('/|\\|',i[2])\n",
    "    if ('.' in gt_bases):\n",
    "        gt_bases_len = 'NA'\n",
    "    else:\n",
    "        gt_bases_len = np.sum([(len(j) - refLen) for j in gt_bases])\n",
    "    sample_gt.append([i[0], gt_bases_len])\n",
    "    \n",
    "strgt = pd.DataFrame.from_records(sample_gt, columns=['sample','str'])\n",
    "\n",
    "# Plot single tissue\n",
    "fig = plt.figure()\n",
    "ax = fig.add_subplot(111)\n",
    "t=\"Nerve-Tibial\"\n",
    "expr = pd.read_csv(\"expr_%s.tab\"%t, names=[\"sample\",\"expr\"])\n",
    "data = pd.merge(strgt, expr)\n",
    "data.boxplot(column=\"expr\", by=\"str\", ax=ax, grid=False);\n",
    "ax.set_xlabel(\"Num. Repeats\", size=15)\n",
    "ax.set_ylabel(\"Gene Expression\", size=15)\n",
    "ax.set_xticks([])\n",
    "ax.set_yticks([])\n",
    "ax.set_title(\"\")\n",
    "ax.spines['right'].set_visible(False)\n",
    "ax.spines['top'].set_visible(False)\n",
    "ax.yaxis.set_ticks_position('left')\n",
    "ax.xaxis.set_ticks_position('bottom')\n",
    "plt.suptitle(\"\");\n",
    "plt.show()\n",
    "fig.savefig(\"example_estr.pdf\")"
   ]
  },
  {
   "cell_type": "markdown",
   "metadata": {},
   "source": [
    "## Best tag snp"
   ]
  },
  {
   "cell_type": "code",
   "execution_count": 18,
   "metadata": {
    "collapsed": true
   },
   "outputs": [],
   "source": [
    "# CSTB\n",
    "CHROM=21\n",
    "START=45201832"
   ]
  },
  {
   "cell_type": "code",
   "execution_count": 19,
   "metadata": {
    "collapsed": true
   },
   "outputs": [],
   "source": [
    "%%bash -s \"$CHROM\" \"$START\" \"$TISSUES\" \"$GENE\"\n",
    "\n",
    "CHROM=$1\n",
    "START=$2\n",
    "TISSUES=$3\n",
    "GENE=$4\n",
    "\n",
    "VCF=/storage/s1saini/manuscript_strsnp/gtex/gtex_beagle41_chr21.vcf.gz\n",
    "\n",
    "# Pull out STR genotypes\n",
    "bcftools query -r ${CHROM}:${START}-${START} -f\"[%SAMPLE\\t%GT\\n]\" $VCF | \\\n",
    "    grep -v \"\\.\" | sed 's/|/\\t/' | awk '{print $1 \"\\t\" $2+$3}' > str_genotypes.tab\n",
    "\n",
    "# Pull out gene expression\n",
    "for t in $(echo $TISSUES | sed 's/,/ /g')\n",
    "do\n",
    "    EXPR=/storage/szfeupe/Runs/650GTEx_estr/Analysis_by_Tissue/${t}/Corr_Expr.csv\n",
    "    colnum=$(cat $EXPR | head -n 1 | sed 's/,/\\t/g' | datamash transpose | awk '{print NR \"\\t\" $0}' | grep -w $GENE | cut -f 1)\n",
    "    cat $EXPR | cut -d',' -f 1,$((${colnum}+1)) | grep -v ENSG > expr_${t}.tab\n",
    "done"
   ]
  },
  {
   "cell_type": "code",
   "execution_count": 20,
   "metadata": {
    "collapsed": false
   },
   "outputs": [
    {
     "data": {
      "image/png": "[encoded data removed]",
      "text/plain": [
       "<Figure size 432x288 with 1 Axes>"
      ]
     },
     "metadata": {},
     "output_type": "display_data"
    }
   ],
   "source": [
    "strgt = pd.read_csv(\"str_genotypes.tab\", sep=\"\\t\", names=[\"sample\",\"str\"])\n",
    "strgt[\"sample\"] = strgt[\"sample\"].apply(lambda x: \"-\".join(x.split(\"-\")[0:2]))\n",
    "\n",
    "# Plot single tissue\n",
    "fig = plt.figure()\n",
    "ax = fig.add_subplot(111)\n",
    "t=\"Nerve-Tibial\"\n",
    "expr = pd.read_csv(\"expr_%s.tab\"%t, names=[\"sample\",\"expr\"])\n",
    "data = pd.merge(strgt, expr)\n",
    "data.boxplot(column=\"expr\", by=\"str\", ax=ax, grid=False);\n",
    "ax.set_xlabel(\"Num. Repeats\", size=15)\n",
    "ax.set_ylabel(\"Gene Expression\", size=15)\n",
    "ax.set_xticks([])\n",
    "ax.set_yticks([])\n",
    "ax.set_title(\"\")\n",
    "ax.spines['right'].set_visible(False)\n",
    "ax.spines['top'].set_visible(False)\n",
    "ax.yaxis.set_ticks_position('left')\n",
    "ax.xaxis.set_ticks_position('bottom')\n",
    "plt.suptitle(\"\");\n",
    "plt.show()\n",
    "fig.savefig(\"example_estr.pdf\")"
   ]
  },
  {
   "cell_type": "code",
   "execution_count": null,
   "metadata": {
    "collapsed": true
   },
   "outputs": [],
   "source": []
  }
 ],
 "metadata": {
  "kernelspec": {
   "display_name": "Python 3",
   "language": "python",
   "name": "python3"
  },
  "language_info": {
   "codemirror_mode": {
    "name": "ipython",
    "version": 3
   },
   "file_extension": ".py",
   "mimetype": "text/x-python",
   "name": "python",
   "nbconvert_exporter": "python",
   "pygments_lexer": "ipython3",
   "version": "3.4.5"
  }
 },
 "nbformat": 4,
 "nbformat_minor": 2
}
